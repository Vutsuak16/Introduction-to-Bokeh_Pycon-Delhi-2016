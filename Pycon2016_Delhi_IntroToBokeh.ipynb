{
 "cells": [
  {
   "cell_type": "code",
   "execution_count": null,
   "metadata": {
    "collapsed": true
   },
   "outputs": [],
   "source": [
    "import pandas as pd\n",
    "import numpy as np\n",
    "from bokeh.plotting import output_file, figure, show, ColumnDataSource\n",
    "from bokeh.models import HoverTool"
   ]
  },
  {
   "cell_type": "code",
   "execution_count": null,
   "metadata": {
    "collapsed": true
   },
   "outputs": [],
   "source": [
    "data = pd.read_csv(\"pulsar_data_test.csv\")"
   ]
  },
  {
   "cell_type": "code",
   "execution_count": null,
   "metadata": {
    "collapsed": false
   },
   "outputs": [],
   "source": [
    "log_Pdot_Y = []  # created  separate list to show separation of data,later we can do it using lesser space\n",
    "log_Pdot_N = []  # N means not in binary system\n",
    "P_Y = []  # in binary system as Y\n",
    "P_N = []\n",
    "\n",
    "TOA = []\n",
    "DM = []\n",
    "RMS = []\n",
    "Pulsar=[]\n",
    "x=0\n"
   ]
  },
  {
   "cell_type": "code",
   "execution_count": null,
   "metadata": {
    "collapsed": false
   },
   "outputs": [],
   "source": [
    "for i in data:\n",
    "    x=i\n",
    "    break\n",
    "\n",
    "for i in data[x]:\n",
    "    Pulsar.append(i)\n",
    "for i in data[\"TOAs\"]:\n",
    "    TOA.append(i)\n",
    "for i in data[\"DM\"]:\n",
    "    DM.append(i)\n",
    "for i in data[\"RMS\"]:\n",
    "    RMS.append(i)\n",
    "    "
   ]
  },
  {
   "cell_type": "code",
   "execution_count": null,
   "metadata": {
    "collapsed": true
   },
   "outputs": [],
   "source": [
    "P = []\n",
    "ct = 0\n",
    "\n",
    "for i in data[\"Period Derivative\"]:\n",
    "    if data[\"Binary\"][ct] == \"Y\":\n",
    "        log_Pdot_Y.append(np.log(i))\n",
    "        P_Y.append(data[\"Period\"][ct])\n",
    "    else:\n",
    "        log_Pdot_N.append(np.log(i))\n",
    "        P_N.append(data[\"Period\"][ct])\n",
    "    ct += 1"
   ]
  },
  {
   "cell_type": "code",
   "execution_count": null,
   "metadata": {
    "collapsed": true
   },
   "outputs": [],
   "source": [
    "output_file(\"plot.html\", title=\"P derivative vs P plot\")"
   ]
  },
  {
   "cell_type": "code",
   "execution_count": null,
   "metadata": {
    "collapsed": true
   },
   "outputs": [],
   "source": [
    "source1 = ColumnDataSource(\n",
    "        data=dict(\n",
    "                Pulsar=Pulsar,\n",
    "                x=P_Y,\n",
    "                y=log_Pdot_Y,\n",
    "                TOA=TOA,\n",
    "                DM=DM,\n",
    "                RMS=RMS,\n",
    "        )\n",
    ")"
   ]
  },
  {
   "cell_type": "code",
   "execution_count": null,
   "metadata": {
    "collapsed": false
   },
   "outputs": [],
   "source": [
    "source2 = ColumnDataSource(\n",
    "        data=dict(\n",
    "                Pulsar=Pulsar,\n",
    "                x=P_N,\n",
    "                y=log_Pdot_N,\n",
    "                TOA=TOA,\n",
    "                DM=DM,\n",
    "                RMS=RMS,\n",
    "        )\n",
    ")"
   ]
  },
  {
   "cell_type": "code",
   "execution_count": null,
   "metadata": {
    "collapsed": true
   },
   "outputs": [],
   "source": [
    "hover = HoverTool(\n",
    "        tooltips=\"\"\"\n",
    "        <div>\n",
    "            <div>\n",
    "                <span style=\"font-size: 10px;\">Index</span>\n",
    "                <span style=\"font-size: 10px; color: #966;\">[$index]</span>\n",
    "            </div>\n",
    "             <div>\n",
    "                <span style=\"font-size: 10px;\">Pulsar</span>\n",
    "                <span style=\"font-size: 10px; color: #696;\">@Pulsar</span>\n",
    "            </div>\n",
    "            <div>\n",
    "                <span style=\"font-size: 10px;\">Location</span>\n",
    "                <span style=\"font-size: 10px; color: #696;\">($x, $y)</span>\n",
    "            </div>\n",
    "             <div>\n",
    "                <span style=\"font-size: 10px;\">Time Of Arrival</span>\n",
    "                <span style=\"font-size: 10px; color: #696;\">@TOA</span>\n",
    "            </div>\n",
    "             <div>\n",
    "                <span style=\"font-size: 10px;\">Dispersion Measure</span>\n",
    "                <span style=\"font-size: 10px; color: #696;\">@DM</span>\n",
    "            </div>\n",
    "             <div>\n",
    "                <span style=\"font-size: 10px;\">Root Mean Square</span>\n",
    "                <span style=\"font-size: 10px; color: #696;\">@RMS</span>\n",
    "            </div>\n",
    "        </div>\n",
    "        \"\"\"\n",
    ")"
   ]
  },
  {
   "cell_type": "code",
   "execution_count": null,
   "metadata": {
    "collapsed": true
   },
   "outputs": [],
   "source": [
    "TOOLS = 'box_zoom,box_select,crosshair,resize,reset,wheel_zoom, previewsave'    #sizing tools"
   ]
  },
  {
   "cell_type": "code",
   "execution_count": null,
   "metadata": {
    "collapsed": true
   },
   "outputs": [],
   "source": [
    "p = figure(title=\"Period derivative vs Period\", x_axis_label='Period (s)', y_axis_label='dot(P)', tools=[hover,TOOLS])\n"
   ]
  },
  {
   "cell_type": "code",
   "execution_count": null,
   "metadata": {
    "collapsed": false
   },
   "outputs": [],
   "source": [
    "p.circle(P_Y, log_Pdot_Y, fill_color=\"red\", legend=\"in BS\", line_color=\"red\", source=source1, size=5)\n",
    "p.circle(P_N, log_Pdot_N, fill_color=\"black\", legend=\"not in BS\", line_color=\"black\", source=source2, size=5)"
   ]
  },
  {
   "cell_type": "code",
   "execution_count": null,
   "metadata": {
    "collapsed": false
   },
   "outputs": [],
   "source": []
  },
  {
   "cell_type": "code",
   "execution_count": null,
   "metadata": {
    "collapsed": true
   },
   "outputs": [],
   "source": []
  }
 ],
 "metadata": {
  "kernelspec": {
   "display_name": "Python 2",
   "language": "python",
   "name": "python2"
  },
  "language_info": {
   "codemirror_mode": {
    "name": "ipython",
    "version": 2
   },
   "file_extension": ".py",
   "mimetype": "text/x-python",
   "name": "python",
   "nbconvert_exporter": "python",
   "pygments_lexer": "ipython2",
   "version": "2.7.9"
  }
 },
 "nbformat": 4,
 "nbformat_minor": 0
}
